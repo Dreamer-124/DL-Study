{
 "cells": [
  {
   "cell_type": "markdown",
   "id": "5954fc53-3b2c-47d8-9be0-f90bf1edcb28",
   "metadata": {},
   "source": [
    "# 填充和步幅\n",
    "### 在所有侧边填充1个像素"
   ]
  },
  {
   "cell_type": "code",
   "execution_count": 5,
   "id": "51798627-f405-43f8-8c59-b2883190fe45",
   "metadata": {},
   "outputs": [
    {
     "data": {
      "text/plain": [
       "torch.Size([8, 8])"
      ]
     },
     "execution_count": 5,
     "metadata": {},
     "output_type": "execute_result"
    }
   ],
   "source": [
    "import torch\n",
    "from torch import nn\n",
    "\n",
    "def comp_conv2d(conv2d, X):\n",
    "    X = X.reshape((1, 1) + X.shape)\n",
    "    Y = conv2d(X)\n",
    "    return Y.reshape(Y.shape[2:])\n",
    "\n",
    "conv2d = nn.Conv2d(1, 1, kernel_size = 3, padding = 1)\n",
    "X = torch.rand((8, 8)) \n",
    "comp_conv2d(conv2d, X).shape"
   ]
  },
  {
   "cell_type": "markdown",
   "id": "e8bbd4a6-cc0e-4512-926b-49972e59230f",
   "metadata": {},
   "source": [
    "### 将高度和宽度的步幅设置为2"
   ]
  },
  {
   "cell_type": "code",
   "execution_count": 7,
   "id": "212b0574-8e08-419f-9915-8ccf56eb5fa5",
   "metadata": {},
   "outputs": [
    {
     "data": {
      "text/plain": [
       "torch.Size([4, 4])"
      ]
     },
     "execution_count": 7,
     "metadata": {},
     "output_type": "execute_result"
    }
   ],
   "source": [
    "conv2d = nn.Conv2d(1, 1, kernel_size = 3, padding = 1, stride = 2)\n",
    "comp_conv2d(conv2d, X).shape"
   ]
  },
  {
   "cell_type": "markdown",
   "id": "54aa35e9-b842-4684-b91e-1e6121c7e85e",
   "metadata": {},
   "source": [
    "### 一个稍微复杂的例子"
   ]
  },
  {
   "cell_type": "code",
   "execution_count": 8,
   "id": "2352733e-f9cc-4f79-843c-818bb33039b1",
   "metadata": {},
   "outputs": [
    {
     "data": {
      "text/plain": [
       "torch.Size([2, 2])"
      ]
     },
     "execution_count": 8,
     "metadata": {},
     "output_type": "execute_result"
    }
   ],
   "source": [
    "conv2d = nn.Conv2d(1, 1, kernel_size = (3, 5), padding = (0, 1), stride = (3, 4))\n",
    "comp_conv2d(conv2d, X).shape"
   ]
  }
 ],
 "metadata": {
  "kernelspec": {
   "display_name": "Python 3 (ipykernel)",
   "language": "python",
   "name": "python3"
  },
  "language_info": {
   "codemirror_mode": {
    "name": "ipython",
    "version": 3
   },
   "file_extension": ".py",
   "mimetype": "text/x-python",
   "name": "python",
   "nbconvert_exporter": "python",
   "pygments_lexer": "ipython3",
   "version": "3.10.14"
  }
 },
 "nbformat": 4,
 "nbformat_minor": 5
}
