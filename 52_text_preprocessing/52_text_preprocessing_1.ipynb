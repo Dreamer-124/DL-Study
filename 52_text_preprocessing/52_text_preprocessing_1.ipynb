{
 "cells": [
  {
   "cell_type": "markdown",
   "id": "ab88528d-7af5-4bcb-ae4c-ce418d1f0869",
   "metadata": {},
   "source": [
    "# 文本预处理"
   ]
  },
  {
   "cell_type": "code",
   "execution_count": 1,
   "id": "7032d7fa-7e13-4386-b03e-e3974472a3d0",
   "metadata": {},
   "outputs": [],
   "source": [
    "import collections\n",
    "import re\n",
    "from d2l import torch as d2l"
   ]
  },
  {
   "cell_type": "markdown",
   "id": "afb6d991-583a-4acd-ba35-950a5d013788",
   "metadata": {},
   "source": [
    "### 将数据集读取到由多条文本行组成的列表中"
   ]
  },
  {
   "cell_type": "code",
   "execution_count": 4,
   "id": "92c2556c-a285-4a31-bfd9-22daf505cd3c",
   "metadata": {},
   "outputs": [
    {
     "name": "stdout",
     "output_type": "stream",
     "text": [
      "# 文本总行数: 3221\n",
      "the time machine by h g wells\n",
      "\n",
      "\n",
      "\n",
      "\n",
      "i\n",
      "\n",
      "\n",
      "the time traveller for so it will be convenient to speak of him\n",
      "was expounding a recondite matter to us his grey eyes shone and\n"
     ]
    }
   ],
   "source": [
    "#@save\n",
    "d2l.DATA_HUB['time_machine'] = (d2l.DATA_URL + 'timemachine.txt',\n",
    "                                '090b5e7e70c295757f55df93cb0a180b9691891a')\n",
    "\n",
    "def read_time_machine():  #@save\n",
    "    \"\"\"将时间机器数据集加载到文本行的列表中\"\"\"\n",
    "    with open(d2l.download('time_machine'), 'r') as f:\n",
    "        lines = f.readlines()\n",
    "    return [re.sub('[^A-Za-z]+', ' ', line).strip().lower() for line in lines]\n",
    "\n",
    "lines = read_time_machine()\n",
    "print(f'# 文本总行数: {len(lines)}')\n",
    "for i in range(10):\n",
    "    print(lines[i])"
   ]
  },
  {
   "cell_type": "markdown",
   "id": "25dc5845-08c6-4d9b-a90c-b6349f85508f",
   "metadata": {},
   "source": [
    "### 每个文本序列又被拆分成一个标记列表"
   ]
  },
  {
   "cell_type": "code",
   "execution_count": 7,
   "id": "11637f0e-9e07-4612-acec-7221499f2e72",
   "metadata": {},
   "outputs": [
    {
     "name": "stdout",
     "output_type": "stream",
     "text": [
      "['the', 'time', 'machine', 'by', 'h', 'g', 'wells']\n",
      "[]\n",
      "[]\n",
      "[]\n",
      "[]\n",
      "['i']\n",
      "[]\n",
      "[]\n",
      "['the', 'time', 'traveller', 'for', 'so', 'it', 'will', 'be', 'convenient', 'to', 'speak', 'of', 'him']\n",
      "['was', 'expounding', 'a', 'recondite', 'matter', 'to', 'us', 'his', 'grey', 'eyes', 'shone', 'and']\n",
      "['twinkled', 'and', 'his', 'usually', 'pale', 'face', 'was', 'flushed', 'and', 'animated', 'the']\n"
     ]
    }
   ],
   "source": [
    "def tokenize(lines, token = 'word'):\n",
    "    \"\"\"将文本行拆分为单词或字符标记。\"\"\"\n",
    "    if token == 'word':\n",
    "        return [line.split() for line in lines]\n",
    "    elif token == 'char':\n",
    "        return [list(line) for line in lines]\n",
    "    else:\n",
    "        print('错误：未知令牌类型：' + token)\n",
    "\n",
    "tokens = tokenize(lines)\n",
    "for i in range(11):\n",
    "    print(tokens[i])"
   ]
  },
  {
   "cell_type": "markdown",
   "id": "e204761e-7b35-4597-9ad2-cce2a7b24ea8",
   "metadata": {},
   "source": [
    "### 构建一个词典，通常也叫词汇表（vocabulary），用来将字符串类型的标记映射到从0开始的数字索引中"
   ]
  },
  {
   "cell_type": "code",
   "execution_count": 8,
   "id": "2fe241d9-5db8-4c59-a3b0-12af66b30f97",
   "metadata": {},
   "outputs": [],
   "source": [
    "def count_corpus(tokens):\n",
    "    \"\"\"统计词元的频率\"\"\"\n",
    "    # 这里的tokens是1D或2D列表\n",
    "    if len(tokens) == 0 or isinstance(tokens[0], list):\n",
    "        # 将词元列表展平成一个列表\n",
    "        tokens = [token for line in tokens for token in line]\n",
    "    return collections.Counter(tokens)\n",
    "\n",
    "class Vocab:\n",
    "    \"\"\"文本词汇表\"\"\"\n",
    "    def __init__(self, tokens = None, min_freq = 0, reserved_tokens = None):\n",
    "        if tokens is None:\n",
    "            tokens = []\n",
    "        if reserved_tokens is None:\n",
    "            reserved_tokens = []\n",
    "        # 按出现频率排序\n",
    "        counter = count_corpus(tokens)\n",
    "        self._token_freqs = sorted(counter.items(), key = lambda x: x[1],\n",
    "                                   reverse = True)\n",
    "        # 未知词元的索引为0\n",
    "        self.idx_to_token = ['<unk>'] + reserved_tokens\n",
    "        self.token_to_idx = {token: idx\n",
    "                             for idx, token in enumerate(self.idx_to_token)}\n",
    "        for token, freq in self._token_freqs:\n",
    "            if freq < min_freq:\n",
    "                break\n",
    "            if token not in self.token_to_idx:\n",
    "                self.idx_to_token.append(token)\n",
    "                self.token_to_idx[token] = len(self.idx_to_token) - 1\n",
    "\n",
    "    def __len__(self):\n",
    "        return len(self.idx_to_token)\n",
    "\n",
    "    def __getitem__(self, tokens):\n",
    "        if not isinstance(tokens, (list, tuple)):\n",
    "            return self.token_to_idx.get(tokens, self.unk)\n",
    "        return [self.__getitem__(token) for token in tokens]\n",
    "\n",
    "    def to_tokens(self, indices):\n",
    "        if not isinstance(indices, (list, tuple)):\n",
    "            return self.idx_to_token[indices]\n",
    "        return [self.idx_to_token[index] for index in indices]\n",
    "\n",
    "    @property\n",
    "    def unk(self):  # 未知词元为0\n",
    "        return 0\n",
    "\n",
    "    @property\n",
    "    def token_freqs(self):\n",
    "        return self._token_freqs"
   ]
  },
  {
   "cell_type": "markdown",
   "id": "99efa334-a814-4089-956c-fc30cb245395",
   "metadata": {},
   "source": [
    "### 构建词汇表"
   ]
  },
  {
   "cell_type": "code",
   "execution_count": 9,
   "id": "e9eb750a-bd2e-468a-aff9-bb4c7d9ba4b4",
   "metadata": {},
   "outputs": [
    {
     "name": "stdout",
     "output_type": "stream",
     "text": [
      "[('<unk>', 0), ('the', 1), ('i', 2), ('and', 3), ('of', 4), ('a', 5), ('to', 6), ('was', 7), ('in', 8), ('that', 9)]\n"
     ]
    }
   ],
   "source": [
    "vocab = Vocab(tokens)\n",
    "print(list(vocab.token_to_idx.items())[:10])"
   ]
  },
  {
   "cell_type": "markdown",
   "id": "4e307066-4804-4066-8cb7-55f3fa798522",
   "metadata": {},
   "source": [
    "### 将每一条文本行转换成一个数字索引列表"
   ]
  },
  {
   "cell_type": "code",
   "execution_count": 14,
   "id": "4c504109-c7f7-4d67-85fe-ae498966cde7",
   "metadata": {},
   "outputs": [
    {
     "name": "stdout",
     "output_type": "stream",
     "text": [
      "words: ['the', 'time', 'machine', 'by', 'h', 'g', 'wells']\n",
      "indices [1, 19, 50, 40, 2183, 2184, 400]\n",
      "words: ['twinkled', 'and', 'his', 'usually', 'pale', 'face', 'was', 'flushed', 'and', 'animated', 'the']\n",
      "indices [2186, 3, 25, 1044, 362, 113, 7, 1421, 3, 1045, 1]\n"
     ]
    }
   ],
   "source": [
    "for i in [0, 10]:\n",
    "    print('words:', tokens[i])\n",
    "    print('indices', vocab[tokens[i]])"
   ]
  },
  {
   "cell_type": "markdown",
   "id": "1bcac783-df6e-4ae2-8aea-c0698a1397b5",
   "metadata": {},
   "source": [
    "### 将所有功能打包到load_corpus_time_machine函数中"
   ]
  },
  {
   "cell_type": "code",
   "execution_count": 17,
   "id": "1965d290-dd68-42b4-81f6-68a46323881c",
   "metadata": {},
   "outputs": [
    {
     "name": "stdout",
     "output_type": "stream",
     "text": [
      "170580 28\n"
     ]
    }
   ],
   "source": [
    "def load_corpus_time_machine(max_tokens = -1):\n",
    "    \"\"\"返回时光机器数据集的标记索引列表和词汇表\"\"\"\n",
    "    lines = read_time_machine()\n",
    "    tokens = tokenize(lines, 'char')\n",
    "    vocab = Vocab(tokens)\n",
    "    corpus = [vocab[token] for line in tokens for token in line]\n",
    "    if max_tokens > 0:\n",
    "        corpus = corpus[:max_tokens]\n",
    "    return corpus, vocab\n",
    "\n",
    "corpus, vocab = load_corpus_time_machine()\n",
    "print(len(corpus), len(vocab)) "
   ]
  }
 ],
 "metadata": {
  "kernelspec": {
   "display_name": "Python 3 (ipykernel)",
   "language": "python",
   "name": "python3"
  },
  "language_info": {
   "codemirror_mode": {
    "name": "ipython",
    "version": 3
   },
   "file_extension": ".py",
   "mimetype": "text/x-python",
   "name": "python",
   "nbconvert_exporter": "python",
   "pygments_lexer": "ipython3",
   "version": "3.10.14"
  }
 },
 "nbformat": 4,
 "nbformat_minor": 5
}
