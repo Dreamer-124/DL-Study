{
 "cells": [
  {
   "cell_type": "markdown",
   "id": "e9f0b603-97d4-4a2e-8d00-dfdb62a5863d",
   "metadata": {},
   "source": [
    "# 转置卷积"
   ]
  },
  {
   "cell_type": "code",
   "execution_count": 37,
   "id": "7b662ad2-a316-44a8-bca2-25dc103a0f58",
   "metadata": {},
   "outputs": [],
   "source": [
    "import torch\n",
    "from torch import nn\n",
    "from d2l import torch as d2l"
   ]
  },
  {
   "cell_type": "markdown",
   "id": "01876c73-0000-48ff-84fe-3051bd3bcaaf",
   "metadata": {},
   "source": [
    "### 实现基本的转置卷积运算"
   ]
  },
  {
   "cell_type": "code",
   "execution_count": 38,
   "id": "70bd8756-918c-441f-b326-35ae6d1d778b",
   "metadata": {},
   "outputs": [],
   "source": [
    "def trans_conv(X, K):\n",
    "    h, w = K.shape\n",
    "    Y = torch.zeros((X.shape[0] + h - 1, X.shape[1] + w - 1))\n",
    "    for i in range(X.shape[0]):\n",
    "        for j in range(X.shape[1]):\n",
    "            Y[i:i + h, j:j + w] += X[i, j] * K\n",
    "    return Y"
   ]
  },
  {
   "cell_type": "markdown",
   "id": "9a4a9d30-a1c4-4c16-bae9-f7269f8471bb",
   "metadata": {},
   "source": [
    "### 验证上述实现输出"
   ]
  },
  {
   "cell_type": "code",
   "execution_count": 39,
   "id": "9c523d16-595d-4f7e-8904-2df08a025bf0",
   "metadata": {},
   "outputs": [
    {
     "data": {
      "text/plain": [
       "tensor([[ 0.,  0.,  1.],\n",
       "        [ 0.,  4.,  6.],\n",
       "        [ 4., 12.,  9.]])"
      ]
     },
     "execution_count": 39,
     "metadata": {},
     "output_type": "execute_result"
    }
   ],
   "source": [
    "X = torch.tensor([[0.0, 1.0], [2.0, 3.0]])\n",
    "K = torch.tensor([[0.0, 1.0], [2.0, 3.0]])\n",
    "\n",
    "trans_conv(X, K)"
   ]
  },
  {
   "cell_type": "markdown",
   "id": "ae676103-1b8e-4440-a48b-e82ef5667127",
   "metadata": {},
   "source": [
    "### 使用高级的API获得相同的结果"
   ]
  },
  {
   "cell_type": "code",
   "execution_count": 40,
   "id": "aa27c6f3-3837-423b-aa60-186845cd2e4a",
   "metadata": {},
   "outputs": [
    {
     "data": {
      "text/plain": [
       "tensor([[[[ 0.,  0.,  1.],\n",
       "          [ 0.,  4.,  6.],\n",
       "          [ 4., 12.,  9.]]]], grad_fn=<ConvolutionBackward0>)"
      ]
     },
     "execution_count": 40,
     "metadata": {},
     "output_type": "execute_result"
    }
   ],
   "source": [
    "X, K = X.reshape(1, 1, 2, 2), K.reshape(1, 1, 2, 2)\n",
    "tconv = nn.ConvTranspose2d(1, 1, kernel_size = 2, bias = False)\n",
    "tconv.weight.data = K\n",
    "tconv(X)"
   ]
  },
  {
   "cell_type": "markdown",
   "id": "f32c4c5a-0e21-40d5-90fe-49c9c7918557",
   "metadata": {},
   "source": [
    "### 填充、步幅和多通道"
   ]
  },
  {
   "cell_type": "code",
   "execution_count": 41,
   "id": "9a30c465-074b-4294-b871-49068c573ad8",
   "metadata": {},
   "outputs": [
    {
     "data": {
      "text/plain": [
       "tensor([[[[4.]]]], grad_fn=<ConvolutionBackward0>)"
      ]
     },
     "execution_count": 41,
     "metadata": {},
     "output_type": "execute_result"
    }
   ],
   "source": [
    "# 填充会减小输出\n",
    "tconv = nn.ConvTranspose2d(1, 1, kernel_size = 2, padding = 1, bias = False)\n",
    "tconv.weight.data = K\n",
    "tconv(X)"
   ]
  },
  {
   "cell_type": "code",
   "execution_count": 42,
   "id": "fc8a4d22-7147-427b-8adb-f644af023f44",
   "metadata": {},
   "outputs": [
    {
     "data": {
      "text/plain": [
       "tensor([[[[0., 0., 0., 1.],\n",
       "          [0., 0., 2., 3.],\n",
       "          [0., 2., 0., 3.],\n",
       "          [4., 6., 6., 9.]]]], grad_fn=<ConvolutionBackward0>)"
      ]
     },
     "execution_count": 42,
     "metadata": {},
     "output_type": "execute_result"
    }
   ],
   "source": [
    "# 步幅会增大输出\n",
    "tconv = nn.ConvTranspose2d(1, 1, kernel_size = 2, stride = 2, bias = False)\n",
    "tconv.weight.data = K\n",
    "tconv(X)"
   ]
  },
  {
   "cell_type": "code",
   "execution_count": 43,
   "id": "94437fc6-bc52-451a-a61c-8a346cbeaaba",
   "metadata": {},
   "outputs": [
    {
     "data": {
      "text/plain": [
       "True"
      ]
     },
     "execution_count": 43,
     "metadata": {},
     "output_type": "execute_result"
    }
   ],
   "source": [
    "X = torch.rand(size = (1, 10, 16, 16))\n",
    "conv = nn.Conv2d(\n",
    "    10, 20, kernel_size = 5, padding = 2, stride = 3)\n",
    "tconv = nn.ConvTranspose2d(\n",
    "    20, 10, kernel_size = 5, padding = 2, stride = 3)\n",
    "\n",
    "tconv(conv(X)).shape == X.shape"
   ]
  },
  {
   "cell_type": "markdown",
   "id": "25c1bc3d-bb99-4fab-9db6-09e3d8bb4f58",
   "metadata": {},
   "source": [
    "### 与矩阵变换的联系"
   ]
  },
  {
   "cell_type": "code",
   "execution_count": 44,
   "id": "577b3a92-e600-419f-b06c-6511b4b23051",
   "metadata": {},
   "outputs": [
    {
     "data": {
      "text/plain": [
       "(tensor([[0., 1., 2.],\n",
       "         [3., 4., 5.],\n",
       "         [6., 7., 8.]]),\n",
       " tensor([[27., 37.],\n",
       "         [57., 67.]]))"
      ]
     },
     "execution_count": 44,
     "metadata": {},
     "output_type": "execute_result"
    }
   ],
   "source": [
    "X = torch.arange(9.0).reshape(3, 3)\n",
    "K = torch.tensor([[1.0, 2.0], [3.0, 4.0]])\n",
    "Y = d2l.corr2d(X, K)\n",
    "X, Y"
   ]
  },
  {
   "cell_type": "code",
   "execution_count": 45,
   "id": "cdfca113-e895-49f2-b1f4-2ea2e2890763",
   "metadata": {},
   "outputs": [
    {
     "data": {
      "text/plain": [
       "tensor([[1., 2., 0., 3., 4., 0., 0., 0., 0.],\n",
       "        [0., 1., 2., 0., 3., 4., 0., 0., 0.],\n",
       "        [0., 0., 0., 1., 2., 0., 3., 4., 0.],\n",
       "        [0., 0., 0., 0., 1., 2., 0., 3., 4.]])"
      ]
     },
     "execution_count": 45,
     "metadata": {},
     "output_type": "execute_result"
    }
   ],
   "source": [
    "def kernel2matrix(K):\n",
    "    k, W = torch.zeros(5), torch.zeros((4, 9))\n",
    "    k[:2], k[3:5] = K[0, :], K[1, :]\n",
    "    W[0, :5], W[1, 1:6], W[2, 3:8], W[3, 4:] = k, k, k, k\n",
    "    return W\n",
    "\n",
    "W = kernel2matrix(K)\n",
    "W"
   ]
  },
  {
   "cell_type": "code",
   "execution_count": 46,
   "id": "9875f289-2936-46a4-8742-1ee5c7bc29fe",
   "metadata": {},
   "outputs": [
    {
     "data": {
      "text/plain": [
       "tensor([[True, True],\n",
       "        [True, True]])"
      ]
     },
     "execution_count": 46,
     "metadata": {},
     "output_type": "execute_result"
    }
   ],
   "source": [
    "Y == torch.matmul(W, X.reshape(-1)).reshape(2, 2)"
   ]
  },
  {
   "cell_type": "code",
   "execution_count": 49,
   "id": "36bf9586-a0b5-404c-a030-a5feb622dcfe",
   "metadata": {},
   "outputs": [
    {
     "data": {
      "text/plain": [
       "tensor([[27., 37.],\n",
       "        [57., 67.]])"
      ]
     },
     "execution_count": 49,
     "metadata": {},
     "output_type": "execute_result"
    }
   ],
   "source": [
    "Z = trans_conv(Y, K)\n",
    "Z == torch.matmul(W.T, Y.reshape(-1)).reshape(3, 3)\n",
    "Y.reshape(-1)  # 将Y拉成一维向量，但是不改变Y的值"
   ]
  }
 ],
 "metadata": {
  "kernelspec": {
   "display_name": "Python 3 (ipykernel)",
   "language": "python",
   "name": "python3"
  },
  "language_info": {
   "codemirror_mode": {
    "name": "ipython",
    "version": 3
   },
   "file_extension": ".py",
   "mimetype": "text/x-python",
   "name": "python",
   "nbconvert_exporter": "python",
   "pygments_lexer": "ipython3",
   "version": "3.10.14"
  }
 },
 "nbformat": 4,
 "nbformat_minor": 5
}
