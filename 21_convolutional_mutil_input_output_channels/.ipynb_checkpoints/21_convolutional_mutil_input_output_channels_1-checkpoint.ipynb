{
 "cells": [
  {
   "cell_type": "markdown",
   "id": "55b6d072-52e6-471d-876e-b8b685fab3ba",
   "metadata": {},
   "source": [
    "# 多输入多输出通道\n",
    "### 实现一下多输入通道互相关运算"
   ]
  },
  {
   "cell_type": "code",
   "execution_count": 1,
   "id": "2baa80fe-8e26-42e4-8181-97761feacb01",
   "metadata": {},
   "outputs": [],
   "source": [
    "import torch\n",
    "from d2l import torch as d2l\n",
    "\n",
    "def corr2d_multi_in(X, K):\n",
    "    return sum(d2l.corr2d(x, k) for x, k in zip(X, K))"
   ]
  },
  {
   "cell_type": "markdown",
   "id": "b8ccbe56-6620-42ff-a53b-6af20e39b695",
   "metadata": {},
   "source": [
    "### 验证互相关运算的输出"
   ]
  },
  {
   "cell_type": "code",
   "execution_count": 8,
   "id": "65a7042c-a2bb-4773-b486-2cbb82c7a79c",
   "metadata": {},
   "outputs": [
    {
     "data": {
      "text/plain": [
       "tensor([[ 56.,  72.],\n",
       "        [104., 120.]])"
      ]
     },
     "execution_count": 8,
     "metadata": {},
     "output_type": "execute_result"
    }
   ],
   "source": [
    "X = torch.tensor([[[0.0, 1.0, 2.0], [3.0, 4.0, 5.0], [6.0, 7.0, 8.0]],\n",
    "                  [[1.0, 2.0, 3.0], [4.0, 5.0, 6.0], [7.0, 8.0, 9.0]]])\n",
    "K = torch.tensor([[[0.0, 1.0], [2.0, 3.0]], [[1.0, 2.0], [3.0, 4.0]]])\n",
    "corr2d_multi_in(X, K)"
   ]
  },
  {
   "cell_type": "markdown",
   "id": "c38e0673-0bb3-49a4-8982-03e0c276fe7a",
   "metadata": {},
   "source": [
    "### 计算多个通道的输出的互相关函数"
   ]
  },
  {
   "cell_type": "code",
   "execution_count": 9,
   "id": "350ac154-fff2-4419-8dd2-db4702cfedf9",
   "metadata": {},
   "outputs": [
    {
     "data": {
      "text/plain": [
       "torch.Size([3, 2, 2, 2])"
      ]
     },
     "execution_count": 9,
     "metadata": {},
     "output_type": "execute_result"
    }
   ],
   "source": [
    "def corr2d_mutil_in_out(X, K):\n",
    "    return torch.stack([corr2d_multi_in(X, k) for k in K], 0)\n",
    "\n",
    "K = torch.stack((K, K + 1, K + 2), 0)\n",
    "K.shape"
   ]
  },
  {
   "cell_type": "code",
   "execution_count": 10,
   "id": "154f3564-5849-43f7-b418-735f3c3f7ba7",
   "metadata": {},
   "outputs": [
    {
     "data": {
      "text/plain": [
       "tensor([[[ 56.,  72.],\n",
       "         [104., 120.]],\n",
       "\n",
       "        [[ 76., 100.],\n",
       "         [148., 172.]],\n",
       "\n",
       "        [[ 96., 128.],\n",
       "         [192., 224.]]])"
      ]
     },
     "execution_count": 10,
     "metadata": {},
     "output_type": "execute_result"
    }
   ],
   "source": [
    "corr2d_mutil_in_out(X, K)"
   ]
  },
  {
   "cell_type": "markdown",
   "id": "7f74129c-6dd5-4145-a810-4e7ee687a2b2",
   "metadata": {},
   "source": [
    "### 1x1卷积"
   ]
  },
  {
   "cell_type": "code",
   "execution_count": 12,
   "id": "d786147a-90c0-481b-8903-99377e14b5dc",
   "metadata": {},
   "outputs": [
    {
     "name": "stdout",
     "output_type": "stream",
     "text": [
      "Y1: tensor([[[-2.7002, -6.5896,  2.7354],\n",
      "         [ 0.2042, -3.1884,  1.9155],\n",
      "         [-0.8936,  9.3936, -1.5960]],\n",
      "\n",
      "        [[ 0.8101,  1.5163, -0.7346],\n",
      "         [-0.2039,  0.5737, -0.3772],\n",
      "         [ 0.3741, -1.6279,  0.1827]]])\n",
      "Y2: tensor([[[-2.7002, -6.5896,  2.7354],\n",
      "         [ 0.2042, -3.1884,  1.9155],\n",
      "         [-0.8936,  9.3936, -1.5960]],\n",
      "\n",
      "        [[ 0.8101,  1.5163, -0.7346],\n",
      "         [-0.2039,  0.5737, -0.3772],\n",
      "         [ 0.3741, -1.6279,  0.1827]]])\n"
     ]
    }
   ],
   "source": [
    "def corr2d_multi_in_out_1x1(X, K):\n",
    "    c_i, h, w = X.shape\n",
    "    c_o = K.shape[0]\n",
    "    X = X.reshape((c_i, h * w))\n",
    "    K = K.reshape((c_o, c_i))\n",
    "    Y = torch.matmul(K, X)\n",
    "    return Y.reshape((c_o, h, w))\n",
    "\n",
    "X = torch.normal(0, 1, (3, 3, 3))\n",
    "K = torch.normal(0, 1, (2, 3, 1, 1))\n",
    "\n",
    "Y1 = corr2d_multi_in_out_1x1(X, K)\n",
    "Y2 = corr2d_mutil_in_out(X, K)\n",
    "\n",
    "print(f'Y1: {Y1}')\n",
    "print(f'Y2: {Y2}')\n",
    "\n",
    "assert float(torch.abs(Y1 - Y2).sum()) < 1e-6"
   ]
  }
 ],
 "metadata": {
  "kernelspec": {
   "display_name": "Python 3 (ipykernel)",
   "language": "python",
   "name": "python3"
  },
  "language_info": {
   "codemirror_mode": {
    "name": "ipython",
    "version": 3
   },
   "file_extension": ".py",
   "mimetype": "text/x-python",
   "name": "python",
   "nbconvert_exporter": "python",
   "pygments_lexer": "ipython3",
   "version": "3.10.14"
  }
 },
 "nbformat": 4,
 "nbformat_minor": 5
}
