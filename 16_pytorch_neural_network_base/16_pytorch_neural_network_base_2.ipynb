{
 "cells": [
  {
   "cell_type": "markdown",
   "id": "4dbfd2a4-2f6f-4676-9382-2aeef8f47dca",
   "metadata": {},
   "source": [
    "# 参数管理\n",
    "### 我们首先关注具有单隐藏层的多层感知机"
   ]
  },
  {
   "cell_type": "code",
   "execution_count": 1,
   "id": "64fd2031-c644-4636-bdcb-59d84b38e005",
   "metadata": {},
   "outputs": [
    {
     "data": {
      "text/plain": [
       "tensor([[0.1886],\n",
       "        [0.0014]], grad_fn=<AddmmBackward0>)"
      ]
     },
     "execution_count": 1,
     "metadata": {},
     "output_type": "execute_result"
    }
   ],
   "source": [
    "import torch\n",
    "from torch import nn\n",
    "\n",
    "net = nn.Sequential(nn.Linear(4, 8), nn.ReLU(), nn.Linear(8, 1))\n",
    "\n",
    "X = torch.rand(size = (2, 4))\n",
    "net(X)"
   ]
  },
  {
   "cell_type": "markdown",
   "id": "2330292e-c0a5-4a1a-b219-31587303da38",
   "metadata": {},
   "source": [
    "### 参数管理"
   ]
  },
  {
   "cell_type": "code",
   "execution_count": 2,
   "id": "da3fc2c4-4474-46f4-b367-f7ac9d901425",
   "metadata": {},
   "outputs": [
    {
     "name": "stdout",
     "output_type": "stream",
     "text": [
      "OrderedDict([('weight', tensor([[ 0.3057,  0.1602, -0.3090, -0.0256, -0.0832, -0.1509, -0.2072, -0.1796]])), ('bias', tensor([0.0464]))])\n"
     ]
    }
   ],
   "source": [
    "print(net[2].state_dict())"
   ]
  },
  {
   "cell_type": "markdown",
   "id": "bfe463f4-11a2-42dd-9576-dde499906ed8",
   "metadata": {},
   "source": [
    "### 目标参数"
   ]
  },
  {
   "cell_type": "code",
   "execution_count": 7,
   "id": "f6ed54a4-0a9b-4dbc-ac5b-2040878f446d",
   "metadata": {},
   "outputs": [
    {
     "name": "stdout",
     "output_type": "stream",
     "text": [
      "<class 'torch.nn.parameter.Parameter'>\n",
      "Parameter containing:\n",
      "tensor([0.0464], requires_grad=True)\n",
      "tensor([0.0464])\n",
      "Parameter containing:\n",
      "tensor([[ 0.3057,  0.1602, -0.3090, -0.0256, -0.0832, -0.1509, -0.2072, -0.1796]],\n",
      "       requires_grad=True)\n",
      "tensor([[ 0.3057,  0.1602, -0.3090, -0.0256, -0.0832, -0.1509, -0.2072, -0.1796]])\n"
     ]
    }
   ],
   "source": [
    "print(type(net[2].bias))\n",
    "print(net[2].bias)\n",
    "print(net[2].bias.data)\n",
    "print(net[2].weight)\n",
    "print(net[2].weight.data)"
   ]
  },
  {
   "cell_type": "code",
   "execution_count": 9,
   "id": "22c1133d-7c4b-4a37-b821-14c19d40c13a",
   "metadata": {},
   "outputs": [
    {
     "data": {
      "text/plain": [
       "True"
      ]
     },
     "execution_count": 9,
     "metadata": {},
     "output_type": "execute_result"
    }
   ],
   "source": [
    "net[2].weight.grad == None  # 还没有做反向传播，所以梯度为空"
   ]
  },
  {
   "cell_type": "markdown",
   "id": "8ecaf0c9-8c48-45f9-8066-10c5531002cb",
   "metadata": {},
   "source": [
    "### 一次性访问所有参数"
   ]
  },
  {
   "cell_type": "code",
   "execution_count": 10,
   "id": "3d0bf145-1df6-4596-b163-c8b2ede7ec82",
   "metadata": {},
   "outputs": [
    {
     "name": "stdout",
     "output_type": "stream",
     "text": [
      "('weight', torch.Size([8, 4])) ('bias', torch.Size([8]))\n",
      "('0.weight', torch.Size([8, 4])) ('0.bias', torch.Size([8])) ('2.weight', torch.Size([1, 8])) ('2.bias', torch.Size([1]))\n"
     ]
    }
   ],
   "source": [
    "print(*[(name, param.shape) for name, param in net[0].named_parameters()])\n",
    "print(*[(name, param.shape) for name, param in net.named_parameters()])"
   ]
  },
  {
   "cell_type": "code",
   "execution_count": 14,
   "id": "0b7ce5fb-4a62-437c-987a-f4cf4f90cbea",
   "metadata": {},
   "outputs": [
    {
     "data": {
      "text/plain": [
       "tensor([0.0464])"
      ]
     },
     "execution_count": 14,
     "metadata": {},
     "output_type": "execute_result"
    }
   ],
   "source": [
    "net.state_dict()['2.bias'].data  # 根据名字访问指定参数"
   ]
  },
  {
   "cell_type": "markdown",
   "id": "f9fa2566-eef0-4df6-a16d-95427d998e7f",
   "metadata": {},
   "source": [
    "### 从嵌套块收集参数 "
   ]
  },
  {
   "cell_type": "code",
   "execution_count": 16,
   "id": "5c62b05f-8669-46e5-936e-d26663e5531d",
   "metadata": {},
   "outputs": [
    {
     "data": {
      "text/plain": [
       "tensor([[0.1749],\n",
       "        [0.1748]], grad_fn=<AddmmBackward0>)"
      ]
     },
     "execution_count": 16,
     "metadata": {},
     "output_type": "execute_result"
    }
   ],
   "source": [
    "def block1():\n",
    "    return nn.Sequential(nn.Linear(4, 8), nn.ReLU(), nn.Linear(8, 4), nn.ReLU())\n",
    "\n",
    "def block2():\n",
    "    net = nn.Sequential()\n",
    "    for i in range(4):\n",
    "        net.add_module(f'block{i}', block1())\n",
    "    return net\n",
    "\n",
    "rgnet = nn.Sequential(block2(), nn.Linear(4, 1))\n",
    "rgnet(X)"
   ]
  },
  {
   "cell_type": "markdown",
   "id": "96dc2dcc-a84a-4d2c-bf08-692b10dc6da9",
   "metadata": {},
   "source": [
    "### 我们已经设计了网络， 让我们看看它是如何组织的"
   ]
  },
  {
   "cell_type": "code",
   "execution_count": 17,
   "id": "fb5e0d15-f206-4a20-ace1-e6487642c5ae",
   "metadata": {},
   "outputs": [
    {
     "name": "stdout",
     "output_type": "stream",
     "text": [
      "Sequential(\n",
      "  (0): Sequential(\n",
      "    (block0): Sequential(\n",
      "      (0): Linear(in_features=4, out_features=8, bias=True)\n",
      "      (1): ReLU()\n",
      "      (2): Linear(in_features=8, out_features=4, bias=True)\n",
      "      (3): ReLU()\n",
      "    )\n",
      "    (block1): Sequential(\n",
      "      (0): Linear(in_features=4, out_features=8, bias=True)\n",
      "      (1): ReLU()\n",
      "      (2): Linear(in_features=8, out_features=4, bias=True)\n",
      "      (3): ReLU()\n",
      "    )\n",
      "    (block2): Sequential(\n",
      "      (0): Linear(in_features=4, out_features=8, bias=True)\n",
      "      (1): ReLU()\n",
      "      (2): Linear(in_features=8, out_features=4, bias=True)\n",
      "      (3): ReLU()\n",
      "    )\n",
      "    (block3): Sequential(\n",
      "      (0): Linear(in_features=4, out_features=8, bias=True)\n",
      "      (1): ReLU()\n",
      "      (2): Linear(in_features=8, out_features=4, bias=True)\n",
      "      (3): ReLU()\n",
      "    )\n",
      "  )\n",
      "  (1): Linear(in_features=4, out_features=1, bias=True)\n",
      ")\n"
     ]
    }
   ],
   "source": [
    "print(rgnet)"
   ]
  },
  {
   "cell_type": "markdown",
   "id": "b2d7295b-bfe3-4a7c-ab22-bdb5adaa4c65",
   "metadata": {},
   "source": [
    "### 内置初始化"
   ]
  },
  {
   "cell_type": "code",
   "execution_count": 18,
   "id": "217b7251-1e4a-4fc3-9abb-9ca319154f18",
   "metadata": {},
   "outputs": [
    {
     "data": {
      "text/plain": [
       "(tensor([[-0.0123, -0.0080,  0.0202,  0.0032],\n",
       "         [-0.0226, -0.0103,  0.0133, -0.0221],\n",
       "         [ 0.0052, -0.0044, -0.0139, -0.0127],\n",
       "         [-0.0128,  0.0082,  0.0069,  0.0056],\n",
       "         [ 0.0080,  0.0042,  0.0075, -0.0039],\n",
       "         [-0.0098,  0.0015, -0.0091, -0.0038],\n",
       "         [ 0.0120, -0.0134, -0.0058, -0.0015],\n",
       "         [-0.0103,  0.0036, -0.0019,  0.0103]]),\n",
       " tensor([-0.0123, -0.0080,  0.0202,  0.0032]),\n",
       " tensor([0., 0., 0., 0., 0., 0., 0., 0.]),\n",
       " tensor(0.))"
      ]
     },
     "execution_count": 18,
     "metadata": {},
     "output_type": "execute_result"
    }
   ],
   "source": [
    "def init_normal(m):\n",
    "    if type(m) == nn.Linear:\n",
    "        nn.init.normal_(m.weight, mean = 0, std = 0.01)\n",
    "        nn.init.zeros_(m.bias)\n",
    "\n",
    "net.apply(init_normal)\n",
    "\n",
    "net[0].weight.data, net[0].weight.data[0], net[0].bias.data, net[0].bias.data[0]"
   ]
  },
  {
   "cell_type": "code",
   "execution_count": 23,
   "id": "67b27f9d-1c57-4819-9cf1-9ccf298c3dfd",
   "metadata": {},
   "outputs": [
    {
     "data": {
      "text/plain": [
       "(tensor([[1., 1., 1., 1.],\n",
       "         [1., 1., 1., 1.],\n",
       "         [1., 1., 1., 1.],\n",
       "         [1., 1., 1., 1.],\n",
       "         [1., 1., 1., 1.],\n",
       "         [1., 1., 1., 1.],\n",
       "         [1., 1., 1., 1.],\n",
       "         [1., 1., 1., 1.]]),\n",
       " tensor([1., 1., 1., 1.]),\n",
       " tensor([0., 0., 0., 0., 0., 0., 0., 0.]),\n",
       " tensor(0.))"
      ]
     },
     "execution_count": 23,
     "metadata": {},
     "output_type": "execute_result"
    }
   ],
   "source": [
    "# !!!禁止将权重初始化成常数\n",
    "def init_constant(m):\n",
    "    if type(m) == nn.Linear:\n",
    "        nn.init.constant_(m.weight, 1)\n",
    "        nn.init.zeros_(m.bias)\n",
    "\n",
    "net.apply(init_constant)\n",
    "net[0].weight.data, net[0].weight.data[0], net[0].bias.data, net[0].bias.data[0]"
   ]
  },
  {
   "cell_type": "markdown",
   "id": "1f458e5f-ba48-4c10-a899-ff15c6fd01e7",
   "metadata": {},
   "source": [
    "### 对某些块应用不同的初始化方法"
   ]
  },
  {
   "cell_type": "code",
   "execution_count": 25,
   "id": "8dec96d7-5acc-4835-a628-d0e1fcf19e24",
   "metadata": {},
   "outputs": [
    {
     "name": "stdout",
     "output_type": "stream",
     "text": [
      "tensor([ 0.2504,  0.0121, -0.6088, -0.1062])\n",
      "tensor([[42., 42., 42., 42., 42., 42., 42., 42.]])\n"
     ]
    }
   ],
   "source": [
    "def xavier(m):\n",
    "    if type(m) == nn.Linear:\n",
    "        nn.init.xavier_uniform_(m.weight)\n",
    "\n",
    "def init_42(m):\n",
    "    if type(m) == nn.Linear:\n",
    "        nn.init.constant_(m.weight, 42)\n",
    "\n",
    "net[0].apply(xavier)\n",
    "net[2].apply(init_42)\n",
    "print(net[0].weight.data[0])\n",
    "print(net[2].weight.data)"
   ]
  },
  {
   "cell_type": "markdown",
   "id": "28b7ade6-cf1d-4e91-9616-c2672534495c",
   "metadata": {},
   "source": [
    "### 自定义初始化"
   ]
  },
  {
   "cell_type": "code",
   "execution_count": 38,
   "id": "b4c1f2e1-fecb-4c71-92ee-cf49c902106c",
   "metadata": {},
   "outputs": [
    {
     "name": "stdout",
     "output_type": "stream",
     "text": [
      "Init weight torch.Size([8, 4])\n",
      "Init weight torch.Size([1, 8])\n"
     ]
    },
    {
     "data": {
      "text/plain": [
       "tensor([[-0.0000,  8.0191, -8.3409, -6.9715],\n",
       "        [-8.3079, -9.0953,  0.0000,  0.0000]], grad_fn=<SliceBackward0>)"
      ]
     },
     "execution_count": 38,
     "metadata": {},
     "output_type": "execute_result"
    }
   ],
   "source": [
    "def my_init(m):\n",
    "    if type(m) == nn.Linear:\n",
    "        print(\n",
    "            \"Init\",\n",
    "            *[(name, param.shape) for name, param in m.named_parameters()][0])\n",
    "        nn.init.uniform_(m.weight, -10, 10)\n",
    "        m.weight.data *= m.weight.data.abs() >= 5\n",
    "\n",
    "net.apply(my_init)\n",
    "net[0].weight[:2]\n",
    "        "
   ]
  },
  {
   "cell_type": "code",
   "execution_count": 41,
   "id": "89945ff0-cfdb-48a9-80e1-ebed0d2150d5",
   "metadata": {},
   "outputs": [
    {
     "data": {
      "text/plain": [
       "tensor([42.0000, 11.0191, -5.3409, -3.9715])"
      ]
     },
     "execution_count": 41,
     "metadata": {},
     "output_type": "execute_result"
    }
   ],
   "source": [
    "# 直接赋值来更改参数\n",
    "net[0].weight.data[:] += 1\n",
    "net[0].weight.data[0, 0] = 42\n",
    "net[0].weight.data[0]"
   ]
  },
  {
   "cell_type": "markdown",
   "id": "2d6816ab-980d-4a6e-b9b7-3f03c925b005",
   "metadata": {},
   "source": [
    "### 参数绑定"
   ]
  },
  {
   "cell_type": "code",
   "execution_count": 43,
   "id": "e965cfc3-a005-4464-9e17-c7a5688ba049",
   "metadata": {},
   "outputs": [
    {
     "name": "stdout",
     "output_type": "stream",
     "text": [
      "tensor([True, True, True, True, True, True, True, True])\n",
      "tensor([True, True, True, True, True, True, True, True])\n"
     ]
    }
   ],
   "source": [
    "# 这样做可以使得多个网络之间进行参数共享\n",
    "shared = nn.Linear(8, 8)\n",
    "net = nn.Sequential(nn.Linear(4, 8), nn.ReLU(), shared, nn.ReLU(),\n",
    "                    shared, nn.ReLU(), nn.Linear(8, 1))\n",
    "\n",
    "net(X)\n",
    "\n",
    "# 检查参数是否相同\n",
    "print(net[2].weight.data[0] == net[4].weight.data[0])\n",
    "net[2].weight.data[0, 0] = 100\n",
    "# 确保它们实际上是同⼀个对象，⽽不只是有相同的值\n",
    "print(net[2].weight.data[0] == net[4].weight.data[0])"
   ]
  }
 ],
 "metadata": {
  "kernelspec": {
   "display_name": "Python 3 (ipykernel)",
   "language": "python",
   "name": "python3"
  },
  "language_info": {
   "codemirror_mode": {
    "name": "ipython",
    "version": 3
   },
   "file_extension": ".py",
   "mimetype": "text/x-python",
   "name": "python",
   "nbconvert_exporter": "python",
   "pygments_lexer": "ipython3",
   "version": "3.10.14"
  }
 },
 "nbformat": 4,
 "nbformat_minor": 5
}
