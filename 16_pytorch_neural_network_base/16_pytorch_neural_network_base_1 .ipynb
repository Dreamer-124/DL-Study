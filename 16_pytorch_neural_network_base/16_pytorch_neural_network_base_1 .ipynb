{
 "cells": [
  {
   "cell_type": "markdown",
   "id": "46f3ee10-2124-4d2c-84a0-18c08a3d1460",
   "metadata": {},
   "source": [
    "# 层和块\n",
    "### 首先，我们回顾一下多层感知机"
   ]
  },
  {
   "cell_type": "code",
   "execution_count": 5,
   "id": "b6ca7fda",
   "metadata": {},
   "outputs": [
    {
     "data": {
      "text/plain": [
       "tensor([[-0.1175, -0.2718, -0.1343, -0.0075,  0.0762, -0.2409, -0.0420, -0.0100,\n",
       "         -0.1561, -0.0441],\n",
       "        [ 0.0124, -0.2863, -0.0832,  0.0877,  0.1144, -0.1652, -0.1083, -0.0227,\n",
       "         -0.0801, -0.0736]], grad_fn=<AddmmBackward0>)"
      ]
     },
     "execution_count": 5,
     "metadata": {},
     "output_type": "execute_result"
    }
   ],
   "source": [
    "import torch\n",
    "from torch import nn\n",
    "from torch.nn import functional as F\n",
    "\n",
    "net = nn.Sequential(nn.Linear(20, 256), nn.ReLU(), nn.Linear(256, 10))\n",
    "\n",
    "X = torch.rand(2, 20)\n",
    "\n",
    "net(X)"
   ]
  },
  {
   "cell_type": "markdown",
   "id": "178754ff-c01a-47e5-aaee-db135dbd5338",
   "metadata": {},
   "source": [
    "### nn.Sequential定义了一种特殊的Module"
   ]
  },
  {
   "cell_type": "markdown",
   "id": "50eecf13-f0e4-4413-a4f0-cc28bbb2b555",
   "metadata": {},
   "source": [
    "### 自定义块"
   ]
  },
  {
   "cell_type": "code",
   "execution_count": 7,
   "id": "579562ed-7f13-4eca-af70-f0ee4a5412fa",
   "metadata": {},
   "outputs": [],
   "source": [
    "class MLP(nn.Module):\n",
    "    def __init__(self):\n",
    "        super().__init__()\n",
    "        self.hidden = nn.Linear(20, 256)\n",
    "        self.out = nn.Linear(256, 10)\n",
    "\n",
    "    def forward(self, X):\n",
    "        return self.out(F.relu(self.hidden(X)))"
   ]
  },
  {
   "cell_type": "markdown",
   "id": "ae2417b4-3fcb-4ede-9caa-8e4dc8dfeb49",
   "metadata": {},
   "source": [
    "### 实例化多层感知机的层，然后在每次调用正向传播函数时调用这些层"
   ]
  },
  {
   "cell_type": "code",
   "execution_count": 8,
   "id": "33e151a8-0b94-47dc-a49d-9ffbbdd084b2",
   "metadata": {},
   "outputs": [
    {
     "data": {
      "text/plain": [
       "tensor([[ 0.0917,  0.1966, -0.2060, -0.2190, -0.0365,  0.2020, -0.0541, -0.1623,\n",
       "          0.0056,  0.0472],\n",
       "        [ 0.0537,  0.3567, -0.1031, -0.1219,  0.1211,  0.1413, -0.1537, -0.2165,\n",
       "          0.0407,  0.0350]], grad_fn=<AddmmBackward0>)"
      ]
     },
     "execution_count": 8,
     "metadata": {},
     "output_type": "execute_result"
    }
   ],
   "source": [
    "net = MLP()\n",
    "net(X)"
   ]
  },
  {
   "cell_type": "markdown",
   "id": "02907f0e-2849-479d-a5c5-7f9eb43c3908",
   "metadata": {},
   "source": [
    "### 顺序块"
   ]
  },
  {
   "cell_type": "code",
   "execution_count": 13,
   "id": "f6f76351-1c81-485d-84ae-db25b3860dbe",
   "metadata": {},
   "outputs": [
    {
     "data": {
      "text/plain": [
       "tensor([[-0.1901,  0.1946, -0.0146,  0.1582, -0.0360, -0.3255, -0.2234,  0.0478,\n",
       "         -0.1391,  0.0508],\n",
       "        [-0.1884,  0.1392, -0.0719, -0.0340, -0.0481, -0.1874,  0.0696, -0.0026,\n",
       "         -0.1784,  0.0187]], grad_fn=<AddmmBackward0>)"
      ]
     },
     "execution_count": 13,
     "metadata": {},
     "output_type": "execute_result"
    }
   ],
   "source": [
    "class MySequential(nn.Module):\n",
    "    def __init__(self, *args):\n",
    "        super().__init__()\n",
    "        for block in args:\n",
    "            self._modules[block] =  block\n",
    "\n",
    "    def forward(self, X):\n",
    "        for block in self._modules.values():\n",
    "            X = block(X)\n",
    "        return X\n",
    "\n",
    "net = MySequential(nn.Linear(20, 256), nn.ReLU(), nn.Linear(256, 10))\n",
    "net(X)"
   ]
  },
  {
   "cell_type": "markdown",
   "id": "bea8fcc2-79df-4654-9792-f0dd8ee1403f",
   "metadata": {},
   "source": [
    "### 在正向传播函数中执行代码"
   ]
  },
  {
   "cell_type": "code",
   "execution_count": 15,
   "id": "e61222fd-431a-4887-969f-7a618c88d482",
   "metadata": {},
   "outputs": [
    {
     "data": {
      "text/plain": [
       "tensor(0.2233, grad_fn=<SumBackward0>)"
      ]
     },
     "execution_count": 15,
     "metadata": {},
     "output_type": "execute_result"
    }
   ],
   "source": [
    "class FixedHiddenMLP(nn.Module):\n",
    "    def __init__(self):\n",
    "        super().__init__()\n",
    "        self.rand_weight = torch.rand((20, 20), requires_grad = False)\n",
    "        self.linear = nn.Linear(20, 20)\n",
    "\n",
    "    def forward(self, X):\n",
    "        X = self.linear(X)\n",
    "        X = F.relu(torch.mm(X, self.rand_weight) + 1)\n",
    "        X = self.linear(X)\n",
    "        while X.abs().sum() > 1:\n",
    "            X /= 2\n",
    "        return X.sum()\n",
    "\n",
    "net = FixedHiddenMLP()\n",
    "net(X)"
   ]
  },
  {
   "cell_type": "markdown",
   "id": "2d07456a-0254-4fab-8e95-0ed9f13c3fed",
   "metadata": {},
   "source": [
    "### 混合搭配各种组合块的方法"
   ]
  },
  {
   "cell_type": "code",
   "execution_count": 17,
   "id": "6a530c84-afea-41c0-82b8-7f31285f2d2b",
   "metadata": {},
   "outputs": [
    {
     "data": {
      "text/plain": [
       "tensor(-0.0956, grad_fn=<SumBackward0>)"
      ]
     },
     "execution_count": 17,
     "metadata": {},
     "output_type": "execute_result"
    }
   ],
   "source": [
    "class NestMLP(nn.Module):\n",
    "    def __init__(self):\n",
    "        super().__init__()\n",
    "        self.net = nn.Sequential(nn.Linear(20, 64), nn.ReLU(), nn.Linear(64, 32), nn.ReLU())\n",
    "        self.linear = nn.Linear(32, 16)\n",
    "\n",
    "    def forward(self, X):\n",
    "        return self.linear(self.net(X))\n",
    "\n",
    "chimera = nn.Sequential(NestMLP(), nn.Linear(16, 20), FixedHiddenMLP())\n",
    "chimera(X)"
   ]
  }
 ],
 "metadata": {
  "kernelspec": {
   "display_name": "Python 3 (ipykernel)",
   "language": "python",
   "name": "python3"
  },
  "language_info": {
   "codemirror_mode": {
    "name": "ipython",
    "version": 3
   },
   "file_extension": ".py",
   "mimetype": "text/x-python",
   "name": "python",
   "nbconvert_exporter": "python",
   "pygments_lexer": "ipython3",
   "version": "3.10.14"
  }
 },
 "nbformat": 4,
 "nbformat_minor": 5
}
