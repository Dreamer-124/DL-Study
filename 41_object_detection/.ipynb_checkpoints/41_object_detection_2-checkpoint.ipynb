{
 "cells": [
  {
   "cell_type": "markdown",
   "id": "bf9584f2-4622-44ea-963b-ed850ff1f765",
   "metadata": {},
   "source": [
    "# 目标检测数据集\n",
    "### 我们收集并标记了一个小型的数据集 下载数据集"
   ]
  },
  {
   "cell_type": "code",
   "execution_count": 2,
   "id": "380d7b0e-5110-42bf-acc9-cf65091d14be",
   "metadata": {},
   "outputs": [],
   "source": [
    "%matplotlib inline\n",
    "import os\n",
    "import pandas as pd\n",
    "import torch\n",
    "import torchvision\n",
    "from d2l import torch as d2l\n",
    "\n",
    "d2l.DATA_HUB['banana-detection'] = (\n",
    "    d2l.DATA_URL + 'banana-detection.zip',\n",
    "    '5de26c8fce5ccdea9f91267273464dc968d20d72')"
   ]
  },
  {
   "cell_type": "markdown",
   "id": "d20f8726-fc62-4a10-a211-dcd7fde26395",
   "metadata": {},
   "source": [
    "### 读取香蕉检测数据集"
   ]
  },
  {
   "cell_type": "code",
   "execution_count": 5,
   "id": "38a8dd9c-48c4-40d1-b2ea-7245065bfe78",
   "metadata": {},
   "outputs": [],
   "source": [
    "def read_data_bananas(is_train = True):\n",
    "    \"\"\"读取香蕉检测数据集中的图像和标签\"\"\"\n",
    "    data_dir = d2l.download_extract('banana-detection')\n",
    "    csv_fname = os.path.join(data_dir,\n",
    "                             'bananas_train' if is_train else 'bananas_val', \n",
    "                             'label.csv')\n",
    "    csv_data = pd.read_csv(csv_fname)\n",
    "    csv_data = csv_data.set_index('img_name')\n",
    "    images, targets = [], []\n",
    "    for img_name, target in csv_data.iterrows():\n",
    "        images.append(\n",
    "            torchvision.io.read_image(\n",
    "                os.path.join(data_dir, 'bananas_train' if is_train else\n",
    "                         'bananas_val', 'images', f'{img_name}')))\n",
    "        targets.append(list(target))\n",
    "    return images, torch.tensor(targets).unsqueeze(1) / 256"
   ]
  },
  {
   "cell_type": "markdown",
   "id": "371306ec-4b9d-42cb-9d62-739b8635270e",
   "metadata": {},
   "source": [
    "### 创建一个自定义的Dataset实例"
   ]
  },
  {
   "cell_type": "code",
   "execution_count": null,
   "id": "167c4362-db7b-4ac7-9553-db2c4978d51b",
   "metadata": {},
   "outputs": [],
   "source": [
    "class BananasDataset(torch.utils.data.Dataset):\n",
    "    \"\"\"一个用于加载香蕉检测数据集的自定义数据集。\"\"\"\n",
    "    def __init__(self, is_train):\n",
    "        self.features, self.labels = read_data_bananas(is_train)\n",
    "        print('read ' + str(len(self.features)) + (f' training examples' if\n",
    "              is_train else f' validation examples'))\n",
    "\n",
    "    def __getitem__(self, idx):\n",
    "        return (self.features[idx].float(), self.labels[idx])\n",
    "\n",
    "    def __len__(self):\n",
    "        return len(self.features)"
   ]
  },
  {
   "cell_type": "markdown",
   "id": "5f60e2e3-99bb-4f2c-93f6-4b25928221df",
   "metadata": {},
   "source": [
    "### 为训练集和测试集返回两个数据加载器实例"
   ]
  },
  {
   "cell_type": "code",
   "execution_count": null,
   "id": "deaac3e0-1d26-4e12-9baf-997c11e73186",
   "metadata": {},
   "outputs": [],
   "source": [
    "#@save\n",
    "def load_data_bananas(batch_size):\n",
    "    \"\"\"加载香蕉检测数据集\"\"\"\n",
    "    train_iter = torch.utils.data.DataLoader(BananasDataset(is_train=True),\n",
    "                                             batch_size, shuffle=True)\n",
    "    val_iter = torch.utils.data.DataLoader(BananasDataset(is_train=False),\n",
    "                                           batch_size)\n",
    "    return train_iter, val_iter"
   ]
  },
  {
   "cell_type": "code",
   "execution_count": null,
   "id": "cbca2396-eb67-450e-af6e-86e785728401",
   "metadata": {},
   "outputs": [],
   "source": []
  },
  {
   "cell_type": "code",
   "execution_count": null,
   "id": "c0165405-318b-40ef-972c-89919f7ae2ea",
   "metadata": {},
   "outputs": [],
   "source": []
  },
  {
   "cell_type": "code",
   "execution_count": null,
   "id": "5b1d898f-4c3e-4519-b3b0-61a6b2357a3d",
   "metadata": {},
   "outputs": [],
   "source": []
  },
  {
   "cell_type": "code",
   "execution_count": null,
   "id": "e593c673-90ca-4287-ba78-84c9f011f01d",
   "metadata": {},
   "outputs": [],
   "source": []
  },
  {
   "cell_type": "code",
   "execution_count": null,
   "id": "2f78d567-6723-425b-bbfa-a768605cce9d",
   "metadata": {},
   "outputs": [],
   "source": []
  }
 ],
 "metadata": {
  "kernelspec": {
   "display_name": "Python 3 (ipykernel)",
   "language": "python",
   "name": "python3"
  },
  "language_info": {
   "codemirror_mode": {
    "name": "ipython",
    "version": 3
   },
   "file_extension": ".py",
   "mimetype": "text/x-python",
   "name": "python",
   "nbconvert_exporter": "python",
   "pygments_lexer": "ipython3",
   "version": "3.10.14"
  }
 },
 "nbformat": 4,
 "nbformat_minor": 5
}
