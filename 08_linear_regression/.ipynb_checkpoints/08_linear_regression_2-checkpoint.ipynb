{
 "cells": [
  {
   "cell_type": "markdown",
   "id": "5e4726b4-9385-47a0-b839-93e3c811c0f6",
   "metadata": {},
   "source": [
    "# 1 线性回归的简洁实现\n",
    "### 通过使用深度学习框架来简洁地实现线性回归模型生成数据集"
   ]
  },
  {
   "cell_type": "code",
   "execution_count": 6,
   "id": "5eab3bfc-267e-46a6-a922-3c1890d3a185",
   "metadata": {},
   "outputs": [
    {
     "name": "stdout",
     "output_type": "stream",
     "text": [
      "The history saving thread hit an unexpected error (OperationalError('attempt to write a readonly database')).History will not be written to the database.\n"
     ]
    }
   ],
   "source": [
    "import numpy as np\n",
    "import torch\n",
    "from torch.utils import data\n",
    "from d2l import torch as d2l\n",
    "\n",
    "true_w = torch.tensor([2, -3.4])\n",
    "true_b = 4.2\n",
    "features, labels = d2l.synthetic_data(true_w, true_b, 1000)"
   ]
  },
  {
   "cell_type": "markdown",
   "id": "078a5208-8069-41a7-8e6d-7029216729f3",
   "metadata": {},
   "source": [
    "### 调用现有框架中的API来读取数据"
   ]
  },
  {
   "cell_type": "code",
   "execution_count": 7,
   "id": "e04b0c18-cb35-4397-bdda-f85b1dc40d02",
   "metadata": {},
   "outputs": [
    {
     "data": {
      "text/plain": [
       "[tensor([[ 0.0317,  1.2290],\n",
       "         [ 0.2988, -0.2659],\n",
       "         [ 0.2079, -0.5510],\n",
       "         [-0.0905,  1.1335],\n",
       "         [-1.3005,  1.1716],\n",
       "         [ 1.2445,  0.1716],\n",
       "         [-0.5132, -0.9438],\n",
       "         [ 0.5151,  0.5541],\n",
       "         [-2.0138, -0.5898],\n",
       "         [-0.6274, -0.7633]]),\n",
       " tensor([[ 0.0796],\n",
       "         [ 5.7044],\n",
       "         [ 6.4743],\n",
       "         [ 0.1780],\n",
       "         [-2.3947],\n",
       "         [ 6.1047],\n",
       "         [ 6.3762],\n",
       "         [ 3.3545],\n",
       "         [ 2.1652],\n",
       "         [ 5.5254]])]"
      ]
     },
     "execution_count": 7,
     "metadata": {},
     "output_type": "execute_result"
    }
   ],
   "source": [
    "def load_array(data_arrays, batch_size, is_train = True):\n",
    "    \"\"\"构造一个PyTorch数据迭代器\"\"\"\n",
    "    dataset = data.TensorDataset(*data_arrays)\n",
    "    return data.DataLoader(dataset, batch_size, shuffle = is_train)\n",
    "\n",
    "batch_size = 10\n",
    "data_iter = load_array((features, labels), batch_size)\n",
    "\n",
    "next(iter(data_iter))"
   ]
  },
  {
   "cell_type": "markdown",
   "id": "7dcc9cd7-dad2-49db-96d2-7ac26287a5cc",
   "metadata": {},
   "source": [
    "### 使用框架的预定义好的层"
   ]
  },
  {
   "cell_type": "code",
   "execution_count": 8,
   "id": "bf06d4de-e0c7-4e92-af11-050e9bce739e",
   "metadata": {},
   "outputs": [],
   "source": [
    "from torch import nn\n",
    "\n",
    "net = nn.Sequential(nn.Linear(2, 1))"
   ]
  },
  {
   "cell_type": "markdown",
   "id": "b8a3ab98-7af1-4a52-8202-158d563be312",
   "metadata": {},
   "source": [
    "### 初始化模型参数"
   ]
  },
  {
   "cell_type": "code",
   "execution_count": 9,
   "id": "cee5e184-2c3f-49b5-ad5a-7501bcf8b6e8",
   "metadata": {},
   "outputs": [
    {
     "data": {
      "text/plain": [
       "tensor([0.])"
      ]
     },
     "execution_count": 9,
     "metadata": {},
     "output_type": "execute_result"
    }
   ],
   "source": [
    "net[0].weight.data.normal_(0, 0.01)\n",
    "net[0].bias.data.fill_(0)"
   ]
  },
  {
   "cell_type": "markdown",
   "id": "2fba6403-1471-40ae-8cb6-41dfd187b657",
   "metadata": {},
   "source": [
    "### 计算均方误差使用的是MSELoss类, 也称为平方$L_2$范数"
   ]
  },
  {
   "cell_type": "code",
   "execution_count": 10,
   "id": "5b5a9b0c-9a5b-4d69-85e1-5b3fd449b3e1",
   "metadata": {},
   "outputs": [],
   "source": [
    "loss = nn.MSELoss()"
   ]
  },
  {
   "cell_type": "markdown",
   "id": "96922adc-5fe1-4675-aec2-d4d3b3545d15",
   "metadata": {},
   "source": [
    "### 实例化SGD实例"
   ]
  },
  {
   "cell_type": "code",
   "execution_count": 11,
   "id": "e0dd9d4f-eceb-4791-89b7-b4590f1e4fd1",
   "metadata": {},
   "outputs": [],
   "source": [
    "trainer = torch.optim.SGD(net.parameters(), lr = 0.03)"
   ]
  },
  {
   "cell_type": "markdown",
   "id": "7818aef9-8f3b-4104-b30e-aa3577d65861",
   "metadata": {},
   "source": [
    "### 训练过程代码与我们从零开始实现时所做的非常相似"
   ]
  },
  {
   "cell_type": "code",
   "execution_count": 12,
   "id": "e6c4e22d-9695-4a84-a373-673c0974986b",
   "metadata": {},
   "outputs": [
    {
     "name": "stdout",
     "output_type": "stream",
     "text": [
      "epoch 1, loss 0.000257\n",
      "epoch 2, loss 0.000100\n",
      "epoch 3, loss 0.000101\n"
     ]
    }
   ],
   "source": [
    "num_epochs = 3\n",
    "for epoch in range(num_epochs):\n",
    "    for X, y in data_iter:\n",
    "        l = loss(net(X), y)\n",
    "        trainer.zero_grad()\n",
    "        l.backward()\n",
    "        trainer.step()\n",
    "    l = loss(net(features), labels)\n",
    "    print(f'epoch {epoch + 1}, loss {l:f}')"
   ]
  },
  {
   "cell_type": "markdown",
   "id": "bd06f60a-503d-4719-83a8-26a0127a252c",
   "metadata": {},
   "source": [
    "### 查看模型中的参数"
   ]
  },
  {
   "cell_type": "code",
   "execution_count": 22,
   "id": "5526ce09-480f-40e9-a72d-43ef346527c9",
   "metadata": {},
   "outputs": [
    {
     "name": "stdout",
     "output_type": "stream",
     "text": [
      "0.weight\n",
      "tensor([[ 1.9991, -3.3998]])\n",
      "--------------------------\n",
      "0.bias\n",
      "tensor([4.1993])\n",
      "--------------------------\n"
     ]
    }
   ],
   "source": [
    "for _, param in enumerate(net.state_dict()):\n",
    "    print(param)\n",
    "    print(net.state_dict()[param])\n",
    "    print('--------------------------')"
   ]
  },
  {
   "cell_type": "markdown",
   "id": "fad0ac88-c423-4d7a-a4ce-0be840529cfb",
   "metadata": {},
   "source": [
    "### 比较真实参数和通过训练学到的参数来评估训练的成功程度"
   ]
  },
  {
   "cell_type": "code",
   "execution_count": 23,
   "id": "7e9fca94-bed1-4583-b83e-ebcc01f55745",
   "metadata": {},
   "outputs": [
    {
     "name": "stdout",
     "output_type": "stream",
     "text": [
      "w的估计误差:  tensor([[ 0.0009, -0.0002]])\n",
      "b的估计误差:  tensor([0.0007])\n"
     ]
    }
   ],
   "source": [
    "w = net[0].weight.data\n",
    "print('w的估计误差: ', true_w - w.reshape(w.shape))\n",
    "b = net[0].bias.data\n",
    "print('b的估计误差: ', true_b - b)"
   ]
  }
 ],
 "metadata": {
  "kernelspec": {
   "display_name": "Python 3 (ipykernel)",
   "language": "python",
   "name": "python3"
  },
  "language_info": {
   "codemirror_mode": {
    "name": "ipython",
    "version": 3
   },
   "file_extension": ".py",
   "mimetype": "text/x-python",
   "name": "python",
   "nbconvert_exporter": "python",
   "pygments_lexer": "ipython3",
   "version": "3.10.14"
  }
 },
 "nbformat": 4,
 "nbformat_minor": 5
}
